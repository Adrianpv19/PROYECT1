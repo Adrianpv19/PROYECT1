{
 "cells": [
  {
   "cell_type": "markdown",
   "metadata": {},
   "source": [
    "### Optimizacion minima de canalizacion de un cable \n",
    "\n",
    "Se desea optimizar la canalizacion de cableado para  el contacto de un televisor full HD 4k 28\" en una habitacion con los siguentes datos notados en la imagen. Se necesita minimizar la canalizacion del cable para el contacto.\n",
    "\n",
    "\n"
   ]
  }
 ],
 "metadata": {
  "kernelspec": {
   "display_name": "Python 3",
   "language": "python",
   "name": "python3"
  },
  "language_info": {
   "codemirror_mode": {
    "name": "ipython",
    "version": 3
   },
   "file_extension": ".py",
   "mimetype": "text/x-python",
   "name": "python",
   "nbconvert_exporter": "python",
   "pygments_lexer": "ipython3",
   "version": "3.8.3"
  }
 },
 "nbformat": 4,
 "nbformat_minor": 4
}
